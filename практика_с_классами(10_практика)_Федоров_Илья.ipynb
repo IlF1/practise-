{
  "nbformat": 4,
  "nbformat_minor": 0,
  "metadata": {
    "colab": {
      "provenance": [],
      "include_colab_link": true
    },
    "kernelspec": {
      "name": "python3",
      "display_name": "Python 3"
    },
    "language_info": {
      "name": "python"
    }
  },
  "cells": [
    {
      "cell_type": "markdown",
      "metadata": {
        "id": "view-in-github",
        "colab_type": "text"
      },
      "source": [
        "<a href=\"https://colab.research.google.com/github/IlF1/practise-/blob/main/%D0%BF%D1%80%D0%B0%D0%BA%D1%82%D0%B8%D0%BA%D0%B0_%D1%81_%D0%BA%D0%BB%D0%B0%D1%81%D1%81%D0%B0%D0%BC%D0%B8(10_%D0%BF%D1%80%D0%B0%D0%BA%D1%82%D0%B8%D0%BA%D0%B0)_%D0%A4%D0%B5%D0%B4%D0%BE%D1%80%D0%BE%D0%B2_%D0%98%D0%BB%D1%8C%D1%8F.ipynb\" target=\"_parent\"><img src=\"https://colab.research.google.com/assets/colab-badge.svg\" alt=\"Open In Colab\"/></a>"
      ]
    },
    {
      "cell_type": "markdown",
      "source": [
        "ФИО:"
      ],
      "metadata": {
        "id": "fLDS5f_mCnPa"
      }
    },
    {
      "cell_type": "markdown",
      "source": [
        "# Задание (совместное с преподавателем)\n",
        "\n",
        "\n"
      ],
      "metadata": {
        "id": "-CSHUbWzCqeM"
      }
    },
    {
      "cell_type": "markdown",
      "source": [
        "Напишите систему для учёта отпусков с возможностью узнавать, сколько дней отпуска осталось у того или иного сотрудника.\n",
        "Для этого создайте класс Employee со следующими методами:\n",
        "\n",
        "- Метод consume_vacation должен отвечать за списание дней отпуска.\n",
        "\n",
        "Единственный параметр этого метода (кроме self) — количество потраченных отпускных дней (целое число).\n",
        "\n",
        "При вызове метода consume_vacation соответствующее количество дней должно вычитаться из общего числа доступных отпускных дней сотрудника.\n",
        "\n",
        "Чтобы определить число доступных отпускных дней конкретного сотрудника, в классе опишите атрибут экземпляра |, который по умолчанию будет равен значению атрибута класса vacation_days, и используйте этот атрибут в работе метода.\n",
        "\n",
        "- Метод get_vacation_details должен возвращать остаток отпускных дней сотрудника в формате: ```Остаток отпускных дней: <число>.```\n",
        "\n",
        "\n",
        "Чтобы проверить работу программы:\n",
        "1. Создайте экземпляр класса Employee.\n",
        "2. Вызовите метод consume_vacation, указав подходящее значение аргумента, например 7.\n",
        "3. Вызовите метод get_vacation_details."
      ],
      "metadata": {
        "id": "a_flBjZOCwYz"
      }
    },
    {
      "cell_type": "code",
      "source": [
        "class Employee:\n",
        "    vacation_days = 28  # Класс-атрибут, который хранит общее количество отпускных дней\n",
        "\n",
        "    def __init__(self, first_name, second_name, gender):\n",
        "        # Метод инициализации экземпляра класса\n",
        "        self.name = first_name  # Устанавливаем имя сотрудника\n",
        "        self.secname = second_name  # Устанавливаем фамилию сотрудника\n",
        "        self.gender = gender  # Устанавливаем пол сотрудника\n",
        "        self.remaining_vacation_days = self.vacation_days  # Устанавливаем оставшиеся дни отпуска\n",
        "\n",
        "    def consume_vacation(self, days):\n",
        "        # Метод для списания дней отпуска\n",
        "        self.remaining_vacation_days -= days  # Уменьшаем количество оставшихся дней отпуска на указанное количество\n",
        "\n",
        "    def vacation_inf(self):\n",
        "        # Метод для получения информации о количестве оставшихся дней отпуска\n",
        "        return f'Остаток отпускных дней: {self.remaining_vacation_days}.'\n",
        "\n",
        "\n",
        "# Создание экземпляров класса Employee\n",
        "employee1 = Employee(\"Ярик\", \"Динозавров\", \"м\")\n",
        "employee2 = Employee(\"Катрина\", \"Диановна\", \"ж\")\n",
        "\n",
        "# Печатаем информацию о первом сотруднике\n",
        "print(employee1.name, \"уехал в отпуск на 9 дней\")\n",
        "print(\"У Ярика было отпускных дней:\", employee1.vacation_inf())\n",
        "\n",
        "# Списываем 9 дней отпуска\n",
        "employee1.consume_vacation(9)\n",
        "\n",
        "# Печатаем оставшиеся дни отпуска\n",
        "print(employee1.vacation_inf())\n",
        "\n",
        "\n",
        "# Печатаем информацию о 2 сотруднике\n",
        "print(employee2.secname, \"уехалa в отпуск на 5 дней\")\n",
        "print(\"У Катрины было отпускных дней:\", employee2.vacation_inf())\n",
        "\n",
        "# Списываем 5 дней отпуска\n",
        "employee2.consume_vacation(5)\n",
        "\n",
        "# Печатаем оставшиеся дни отпуска\n",
        "print(employee2.vacation_inf())"
      ],
      "metadata": {
        "id": "2TyRY9a1XCOu",
        "colab": {
          "base_uri": "https://localhost:8080/"
        },
        "outputId": "43ffea4e-fa74-4682-f834-665f57761cdc"
      },
      "execution_count": null,
      "outputs": [
        {
          "output_type": "stream",
          "name": "stdout",
          "text": [
            "Ярик уехал в отпуск на 9 дней\n",
            "У Ярика было отпускных дней: Остаток отпускных дней: 28.\n",
            "Остаток отпускных дней: 19.\n",
            "Диановна уехалa в отпуск на 5 дней\n",
            "У Катрины было отпускных дней: Остаток отпускных дней: 28.\n",
            "Остаток отпускных дней: 23.\n"
          ]
        }
      ]
    },
    {
      "cell_type": "markdown",
      "source": [
        "# Задание 1"
      ],
      "metadata": {
        "id": "C0Z_wXo9XIr2"
      }
    },
    {
      "cell_type": "markdown",
      "source": [
        "Задание:\n",
        "\n",
        "Создайте класс с именем Rectangle который имеет:\n",
        "- Атрибуты ширины и высоты.\n",
        "- Метод расчета площади.\n",
        "- Метод расчета периметра.\n",
        "- Метод отображения размеров прямоугольника.\n",
        "\n",
        "Создайте экземпляр класса Rectangleи продемонстрируйте его функциональность."
      ],
      "metadata": {
        "id": "jQ4qqd8nEZBY"
      }
    },
    {
      "cell_type": "code",
      "source": [
        "class Rectangle:\n",
        "\n",
        "  def __init__(self, width, height):\n",
        "      #Инициализация атрибутов ширины и высоты\n",
        "      self.width = width\n",
        "      self.height = height\n",
        "\n",
        "  def area_calculation(self):\n",
        "    area=self.width * self.height\n",
        "    return f'площадь прямоугольника = {area}'\n",
        "\n",
        "  def perimeter_calculation(self):\n",
        "    perimetr=2 * (self.width + self.height)\n",
        "    return f'периметр прямоугольника равен {perimetr}'\n",
        "\n",
        "  def view_of_options(self):\n",
        "      return f'Ширина прямоугольника: {self.width}, Высота прямоугольника: {self.height}'\n",
        "\n",
        "# Создание экземпляра класса Rectangle\n",
        "rectangle1 = Rectangle(80, 55)\n",
        "\n",
        "print(rectangle1.view_of_options())\n",
        "print(rectangle1.area_calculation())\n",
        "print(rectangle1.perimeter_calculation())\n",
        "\n"
      ],
      "metadata": {
        "id": "dG6uNPqTEAvt",
        "colab": {
          "base_uri": "https://localhost:8080/"
        },
        "outputId": "b0a77dc9-516c-4790-c362-4f967db5e2be"
      },
      "execution_count": null,
      "outputs": [
        {
          "output_type": "stream",
          "name": "stdout",
          "text": [
            "Ширина прямоугольника: 80, Высота прямоугольника: 55\n",
            "площадь прямоугольника = 4400\n",
            "периметр прямоугольника равен 270\n"
          ]
        }
      ]
    },
    {
      "cell_type": "markdown",
      "source": [
        "# Задание 2"
      ],
      "metadata": {
        "id": "0ct1u6lqE73j"
      }
    },
    {
      "cell_type": "markdown",
      "source": [
        "Задание: Создайте мини версию банковской системы:\n",
        "\n",
        "\n",
        "Инструкции:\n",
        "\n",
        "1. Создайте класс BankAccountсо следующими атрибутами:\n",
        "    - account_holder -  владелец счета\n",
        "    - balance - баланс счета\n",
        "\n",
        "2. Реализуйте следующие методы:\n",
        "    - Метод для инициализации владельца счета: имя владельца счета и установите начальный баланс на 0.\n",
        "    - deposit(amount): Добавьте указанную сумму к балансу.\n",
        "    - withdraw(amount): Вычесть указанную сумму из баланса, если средств достаточно; в противном случае вывести предупреждение.\n",
        "    - get_balance(): Возврат текущего баланса.\n",
        "\n",
        "\n",
        "Создайте объект класса и продемонстрируйте его возможности"
      ],
      "metadata": {
        "id": "FOpIpcLxE-WK"
      }
    },
    {
      "cell_type": "code",
      "source": [
        "class BankAccountco:\n",
        "\n",
        "  def __init__(self,account_holder):\n",
        "    self.account = account_holder\n",
        "    self.balance = 0\n",
        "\n",
        "  def deposit_amount(self,amount):\n",
        "    self.balance+=amount\n",
        "    print(f'Внесено: {amount}. Новый баланс: {self.balance}.')\n",
        "\n",
        "  def withdraw_amount(self,amount):\n",
        "    if amount <= self.balance:\n",
        "      self.balance -= amount\n",
        "      print(f'Снято: {amount}. Новый баланс: {self.balance}.')\n",
        "    else:\n",
        "      print(\"Недостаточно средств на счете для смятия money.\")\n",
        "\n",
        "  def get_balance(self):\n",
        "    return self.balance\n",
        "\n",
        "user = BankAccountco(\"Теодор Простофилин\")\n",
        "\n",
        "print(\"У\", user.account,f'Текущий баланс: {account.get_balance()}')  # Отображаем текущий баланс\n",
        "user.deposit_amount(1000000) # Вносим средства\n",
        "user.withdraw_amount(78650) # Снимаем средства\n",
        "print(f'Текущий баланс: {account.get_balance()}')\n",
        "\n",
        "\n",
        "\n"
      ],
      "metadata": {
        "id": "WWXNIUrCE99W",
        "colab": {
          "base_uri": "https://localhost:8080/"
        },
        "outputId": "dcdc5d37-7647-43e2-8720-5c2a8d225f1a"
      },
      "execution_count": null,
      "outputs": [
        {
          "output_type": "stream",
          "name": "stdout",
          "text": [
            "У Теодор Простофилин Текущий баланс: 2764050\n",
            "Внесено: 1000000. Новый баланс: 1000000.\n",
            "Снято: 78650. Новый баланс: 921350.\n",
            "Текущий баланс: 2764050\n"
          ]
        }
      ]
    },
    {
      "cell_type": "markdown",
      "source": [
        "# Задание 3"
      ],
      "metadata": {
        "id": "C5DX5Uf2FfP6"
      }
    },
    {
      "cell_type": "markdown",
      "source": [],
      "metadata": {
        "id": "qwriOyc5uJx-"
      }
    },
    {
      "cell_type": "markdown",
      "source": [
        "Возьмите код и задание (Рыцарь и дракон) из предыдущей практики и реализуйте его с применением классов"
      ],
      "metadata": {
        "id": "0cR-MYepFgz6"
      }
    },
    {
      "cell_type": "code",
      "source": [
        "import random\n",
        "\n",
        "# Класс для создания персонажа (рыцаря или дракона)\n",
        "class Character:\n",
        "    def __init__(self, name, health, min_damage, max_damage):\n",
        "        self.name = name  # Имя персонажа\n",
        "        self.health = health  # Здоровье персонажа\n",
        "        self.min_damage = min_damage  # Минимальный урон, который может нанести персонаж\n",
        "        self.max_damage = max_damage  # Максимальный урон, который может нанести персонаж\n",
        "\n",
        "    # Метод для проверки, жив ли персонаж\n",
        "    def is_alive(self):\n",
        "        return self.health > 0\n",
        "\n",
        "    # Метод для атаки персонажа\n",
        "    def attack(self):\n",
        "        damage = random.randint(self.min_damage, self.max_damage)  # Генерация случайного урона\n",
        "        print(f\"{self.name} атакует и наносит {damage} урона.\")\n",
        "        return damage  # Возврат значения урона\n",
        "\n",
        "    # Метод для получения урона\n",
        "    def take_damage(self, damage):\n",
        "        self.health -= damage  # Уменьшение здоровья на величину урона\n",
        "        self.health = max(0, self.health)\n",
        "        print(f\"{self.name} получает {damage} урона! Осталось здоровья: {self.health}\")\n",
        "\n",
        "\n",
        "# Класс для создания рыцаря, наследующий от класса Character\n",
        "class Knight(Character):\n",
        "    def __init__(self, name, health, armor, min_damage, max_damage):\n",
        "        super().__init__(name, health, min_damage, max_damage)  # Инициализация шлавного класса героя(character)\n",
        "        self.armor = armor  # Броня рыцаря\n",
        "\n",
        "    # Переопределенный метод для получения урона с учетом брони\n",
        "    def take_damage(self, damage):\n",
        "        effective_damage = max(0, damage - self.armor)  # Расчет эффективного урона с учетом брони\n",
        "        super().take_damage(effective_damage)  # Вызов метода родительского класса\n",
        "\n",
        "\n",
        "# Класс для создания дракона, наследующий от класса Character\n",
        "class Dragon(Character):\n",
        "    pass  # Дракон наследует все методы от класса Character без изменений\n",
        "\n",
        "\n",
        "# Функция для создания рыцаря на основе пользовательского ввода\n",
        "def create_knight():\n",
        "    name = input('Введите имя рыцаря ')  # Запрос имени рыцаря\n",
        "    health = int(input(\"Введите здоровье (MAX=1000 health points): \"))  # Запрос здоровья\n",
        "    while health > 1000 or health < 0:  # Проверка допустимого диапазона здоровья\n",
        "        health = int(input(\"Здоровье должно быть в диапазоне от 0 до 1000. Попробуйте снова: \"))\n",
        "\n",
        "    armor = int(input(\"Введите количество единиц брони (MAX=300): \"))  # Запрос брони\n",
        "    while armor > 300 or armor < 0:  # Проверка допустимого диапазона брони\n",
        "        armor = int(input(\"Броня должна быть в диапазоне от 0 до 300. Попробуйте снова: \"))\n",
        "\n",
        "    min_hit = int(input(\"Введите минимальный урон (min =100): \"))  # Запрос минимального урона\n",
        "    max_hit = int(input(\"Введите максимальный урон (max=250): \"))  # Запрос максимального урона\n",
        "    while min_hit < 100 or max_hit > 250 or min_hit > max_hit:  # Проверка допустимых значений урона\n",
        "        min_hit = int(input(\"Минимальный урон должен быть не менее 100, максимальный не более 250 и меньше минимального. Попробуйте снова: \"))\n",
        "        max_hit = int(input(\"Введите максимальный урон (max=250): \"))\n",
        "\n",
        "    return Knight(name, health, armor, min_hit, max_hit)  # Возврат созданного рыцаря\n",
        "\n",
        "\n",
        "# Функция для создания дракона на основе пользовательского ввода\n",
        "def create_dragon():\n",
        "    name = input('Введите имя дракона: ')  # Запрос имени дракона\n",
        "    health = int(input(\"Введите здоровье (MAX=5000 health points): \"))  # Запрос здоровья дракона\n",
        "    while health > 5000 or health < 0:  # Проверка допустимого диапазона здоровья\n",
        "        health = int(input(\"Здоровье должно быть в диапазоне от 0 до 5000. Попробуйте снова: \"))\n",
        "\n",
        "    min_hit = int(input(\"Введите минимальный урон (min =30): \"))  # Запрос минимального урона дракона\n",
        "    max_hit = int(input(\"Введите максимальный урон (max=80): \"))  # Запрос максимального урона дракона\n",
        "    while min_hit < 30 or max_hit > 80 or min_hit > max_hit:  # Проверка допустимых значений урона\n",
        "        min_hit = int(input(\"Минимальный урон должен быть не менее 30, максимальный не более 80 и меньше минимального. Попробуйте снова: \"))\n",
        "        max_hit = int(input(\"Введите максимальный урон (max=80): \"))\n",
        "\n",
        "    return Dragon(name, health, min_hit, max_hit)  # Возврат созданного дракона\n",
        "\n",
        "\n",
        "# Функция для проведения боя между рыцарем и драконом\n",
        "def battle(knight, dragon):\n",
        "    print(\"Начало боя!\")  # Сообщение о начале боя\n",
        "    while knight.is_alive() and dragon.is_alive():  # Цикл продолжается пока оба персонажа живы\n",
        "        action = input(\"Выберите действие: 1 - Атаковать: \")  # Запрос действия игрока\n",
        "\n",
        "        if action == \"1\":  # Если игрок выбрал атаку\n",
        "            damage_to_dragon = knight.attack()  # Рыцарь атакует дракона\n",
        "            dragon.take_damage(damage_to_dragon)  # Дракон получает урон\n",
        "\n",
        "            if dragon.is_alive():  # Если дракон еще жив\n",
        "                damage_to_knight = dragon.attack()  # Дракон атакует рыцаря\n",
        "                knight.take_damage(damage_to_knight)  # Рыцарь получает урон\n",
        "        else:\n",
        "            print(\"Неверное действие. Попробуйте снова.\")  # Обработка неверного ввода\n",
        "\n",
        "    # Проверка на то, кто победил в бою\n",
        "    if not knight.is_alive():\n",
        "        print(\"Рыцарь пал в бою! Игра окончена.\")  # Сообщение о поражении рыцаря\n",
        "    elif not dragon.is_alive():\n",
        "        print(\"Дракон повержен! Вы победили!\")  # Сообщение о победе рыцаря\n",
        "\n",
        "\n",
        "# Основная функция игры\n",
        "def main():\n",
        "    print(\"Вы в игре Рыцарь и Дракон\")  # Приветственное сообщение\n",
        "    knight = create_knight()  # Создание рыцаря\n",
        "    dragon = create_dragon()  # Создание дракона\n",
        "    battle(knight, dragon)  # Начало боя\n",
        "\n",
        "\n",
        "# Запуск основной функции игры\n",
        "main()"
      ],
      "metadata": {
        "id": "Oz9BZbhAFwua",
        "colab": {
          "base_uri": "https://localhost:8080/",
          "height": 626
        },
        "outputId": "0dc36ea1-0b28-4104-90b7-d01eb4d22d96"
      },
      "execution_count": null,
      "outputs": [
        {
          "output_type": "stream",
          "name": "stdout",
          "text": [
            "Вы в игре Рыцарь и Дракон\n",
            "Введите имя рыцаря ярик\n",
            "Введите здоровье (MAX=1000 health points): 1000\n",
            "Введите количество единиц брони (MAX=300): 200\n",
            "Введите минимальный урон (min =100): 100\n",
            "Введите максимальный урон (max=250): 220\n",
            "Введите имя дракона: рар\n",
            "Введите здоровье (MAX=5000 health points): 3456\n",
            "Введите минимальный урон (min =30): 30\n",
            "Введите максимальный урон (max=80): 80\n",
            "Начало боя!\n",
            "Выберите действие: 1 - Атаковать: 1\n",
            "ярик атакует и наносит 106 урона.\n",
            "рар получает 106 урона! Осталось здоровья: 3350\n",
            "рар атакует и наносит 54 урона.\n",
            "ярик получает 0 урона! Осталось здоровья: 1000\n"
          ]
        },
        {
          "output_type": "error",
          "ename": "KeyboardInterrupt",
          "evalue": "Interrupted by user",
          "traceback": [
            "\u001b[0;31m---------------------------------------------------------------------------\u001b[0m",
            "\u001b[0;31mKeyboardInterrupt\u001b[0m                         Traceback (most recent call last)",
            "\u001b[0;32m<ipython-input-2-c489601d20b8>\u001b[0m in \u001b[0;36m<cell line: 113>\u001b[0;34m()\u001b[0m\n\u001b[1;32m    111\u001b[0m \u001b[0;34m\u001b[0m\u001b[0m\n\u001b[1;32m    112\u001b[0m \u001b[0;31m# Запуск основной функции игры\u001b[0m\u001b[0;34m\u001b[0m\u001b[0;34m\u001b[0m\u001b[0m\n\u001b[0;32m--> 113\u001b[0;31m \u001b[0mmain\u001b[0m\u001b[0;34m(\u001b[0m\u001b[0;34m)\u001b[0m\u001b[0;34m\u001b[0m\u001b[0;34m\u001b[0m\u001b[0m\n\u001b[0m",
            "\u001b[0;32m<ipython-input-2-c489601d20b8>\u001b[0m in \u001b[0;36mmain\u001b[0;34m()\u001b[0m\n\u001b[1;32m    107\u001b[0m     \u001b[0mknight\u001b[0m \u001b[0;34m=\u001b[0m \u001b[0mcreate_knight\u001b[0m\u001b[0;34m(\u001b[0m\u001b[0;34m)\u001b[0m  \u001b[0;31m# Создание рыцаря\u001b[0m\u001b[0;34m\u001b[0m\u001b[0;34m\u001b[0m\u001b[0m\n\u001b[1;32m    108\u001b[0m     \u001b[0mdragon\u001b[0m \u001b[0;34m=\u001b[0m \u001b[0mcreate_dragon\u001b[0m\u001b[0;34m(\u001b[0m\u001b[0;34m)\u001b[0m  \u001b[0;31m# Создание дракона\u001b[0m\u001b[0;34m\u001b[0m\u001b[0;34m\u001b[0m\u001b[0m\n\u001b[0;32m--> 109\u001b[0;31m     \u001b[0mbattle\u001b[0m\u001b[0;34m(\u001b[0m\u001b[0mknight\u001b[0m\u001b[0;34m,\u001b[0m \u001b[0mdragon\u001b[0m\u001b[0;34m)\u001b[0m  \u001b[0;31m# Начало боя\u001b[0m\u001b[0;34m\u001b[0m\u001b[0;34m\u001b[0m\u001b[0m\n\u001b[0m\u001b[1;32m    110\u001b[0m \u001b[0;34m\u001b[0m\u001b[0m\n\u001b[1;32m    111\u001b[0m \u001b[0;34m\u001b[0m\u001b[0m\n",
            "\u001b[0;32m<ipython-input-2-c489601d20b8>\u001b[0m in \u001b[0;36mbattle\u001b[0;34m(knight, dragon)\u001b[0m\n\u001b[1;32m     83\u001b[0m     \u001b[0mprint\u001b[0m\u001b[0;34m(\u001b[0m\u001b[0;34m\"Начало боя!\"\u001b[0m\u001b[0;34m)\u001b[0m  \u001b[0;31m# Сообщение о начале боя\u001b[0m\u001b[0;34m\u001b[0m\u001b[0;34m\u001b[0m\u001b[0m\n\u001b[1;32m     84\u001b[0m     \u001b[0;32mwhile\u001b[0m \u001b[0mknight\u001b[0m\u001b[0;34m.\u001b[0m\u001b[0mis_alive\u001b[0m\u001b[0;34m(\u001b[0m\u001b[0;34m)\u001b[0m \u001b[0;32mand\u001b[0m \u001b[0mdragon\u001b[0m\u001b[0;34m.\u001b[0m\u001b[0mis_alive\u001b[0m\u001b[0;34m(\u001b[0m\u001b[0;34m)\u001b[0m\u001b[0;34m:\u001b[0m  \u001b[0;31m# Цикл продолжается пока оба персонажа живы\u001b[0m\u001b[0;34m\u001b[0m\u001b[0;34m\u001b[0m\u001b[0m\n\u001b[0;32m---> 85\u001b[0;31m         \u001b[0maction\u001b[0m \u001b[0;34m=\u001b[0m \u001b[0minput\u001b[0m\u001b[0;34m(\u001b[0m\u001b[0;34m\"Выберите действие: 1 - Атаковать: \"\u001b[0m\u001b[0;34m)\u001b[0m  \u001b[0;31m# Запрос действия игрока\u001b[0m\u001b[0;34m\u001b[0m\u001b[0;34m\u001b[0m\u001b[0m\n\u001b[0m\u001b[1;32m     86\u001b[0m \u001b[0;34m\u001b[0m\u001b[0m\n\u001b[1;32m     87\u001b[0m         \u001b[0;32mif\u001b[0m \u001b[0maction\u001b[0m \u001b[0;34m==\u001b[0m \u001b[0;34m\"1\"\u001b[0m\u001b[0;34m:\u001b[0m  \u001b[0;31m# Если игрок выбрал атаку\u001b[0m\u001b[0;34m\u001b[0m\u001b[0;34m\u001b[0m\u001b[0m\n",
            "\u001b[0;32m/usr/local/lib/python3.10/dist-packages/ipykernel/kernelbase.py\u001b[0m in \u001b[0;36mraw_input\u001b[0;34m(self, prompt)\u001b[0m\n\u001b[1;32m    849\u001b[0m                 \u001b[0;34m\"raw_input was called, but this frontend does not support input requests.\"\u001b[0m\u001b[0;34m\u001b[0m\u001b[0;34m\u001b[0m\u001b[0m\n\u001b[1;32m    850\u001b[0m             )\n\u001b[0;32m--> 851\u001b[0;31m         return self._input_request(str(prompt),\n\u001b[0m\u001b[1;32m    852\u001b[0m             \u001b[0mself\u001b[0m\u001b[0;34m.\u001b[0m\u001b[0m_parent_ident\u001b[0m\u001b[0;34m,\u001b[0m\u001b[0;34m\u001b[0m\u001b[0;34m\u001b[0m\u001b[0m\n\u001b[1;32m    853\u001b[0m             \u001b[0mself\u001b[0m\u001b[0;34m.\u001b[0m\u001b[0m_parent_header\u001b[0m\u001b[0;34m,\u001b[0m\u001b[0;34m\u001b[0m\u001b[0;34m\u001b[0m\u001b[0m\n",
            "\u001b[0;32m/usr/local/lib/python3.10/dist-packages/ipykernel/kernelbase.py\u001b[0m in \u001b[0;36m_input_request\u001b[0;34m(self, prompt, ident, parent, password)\u001b[0m\n\u001b[1;32m    893\u001b[0m             \u001b[0;32mexcept\u001b[0m \u001b[0mKeyboardInterrupt\u001b[0m\u001b[0;34m:\u001b[0m\u001b[0;34m\u001b[0m\u001b[0;34m\u001b[0m\u001b[0m\n\u001b[1;32m    894\u001b[0m                 \u001b[0;31m# re-raise KeyboardInterrupt, to truncate traceback\u001b[0m\u001b[0;34m\u001b[0m\u001b[0;34m\u001b[0m\u001b[0m\n\u001b[0;32m--> 895\u001b[0;31m                 \u001b[0;32mraise\u001b[0m \u001b[0mKeyboardInterrupt\u001b[0m\u001b[0;34m(\u001b[0m\u001b[0;34m\"Interrupted by user\"\u001b[0m\u001b[0;34m)\u001b[0m \u001b[0;32mfrom\u001b[0m \u001b[0;32mNone\u001b[0m\u001b[0;34m\u001b[0m\u001b[0;34m\u001b[0m\u001b[0m\n\u001b[0m\u001b[1;32m    896\u001b[0m             \u001b[0;32mexcept\u001b[0m \u001b[0mException\u001b[0m \u001b[0;32mas\u001b[0m \u001b[0me\u001b[0m\u001b[0;34m:\u001b[0m\u001b[0;34m\u001b[0m\u001b[0;34m\u001b[0m\u001b[0m\n\u001b[1;32m    897\u001b[0m                 \u001b[0mself\u001b[0m\u001b[0;34m.\u001b[0m\u001b[0mlog\u001b[0m\u001b[0;34m.\u001b[0m\u001b[0mwarning\u001b[0m\u001b[0;34m(\u001b[0m\u001b[0;34m\"Invalid Message:\"\u001b[0m\u001b[0;34m,\u001b[0m \u001b[0mexc_info\u001b[0m\u001b[0;34m=\u001b[0m\u001b[0;32mTrue\u001b[0m\u001b[0;34m)\u001b[0m\u001b[0;34m\u001b[0m\u001b[0;34m\u001b[0m\u001b[0m\n",
            "\u001b[0;31mKeyboardInterrupt\u001b[0m: Interrupted by user"
          ]
        }
      ]
    },
    {
      "cell_type": "markdown",
      "source": [
        "# Дополнительное задание\n"
      ],
      "metadata": {
        "id": "b_mJHXcQGI9t"
      }
    },
    {
      "cell_type": "markdown",
      "source": [
        "Задача: Система управления библиотекой\n",
        "\n",
        "**Цель**\n",
        "Создайте простую систему управления библиотекой, которая позволит пользователям добавлять книги, брать книги, возвращать книги и просматривать список доступных книг.\n",
        "\n",
        "**Требования**\n",
        "\n",
        "1. **Определение класса**:\n",
        "   – Создайте класс с именем «Book» со следующими атрибутами:\n",
        "     - `title`\n",
        "     - `автор`\n",
        "     - `isbn`\n",
        "     - `is_borrowed` (по умолчанию `False`)\n",
        "\n",
        "2. **Класс библиотеки**:\n",
        "   - Создайте класс с именем Library, который управляет коллекцией книг.\n",
        "   - Класс должен иметь следующие методы:\n",
        "     - `__init__(self)`: инициализирует пустой список книг.\n",
        "     - `add_book(self, book: Book)`: добавляет новую книгу в библиотеку.\n",
        "     - `borrow_book(self, isbn: str)`: помечает книгу как заимствованную. Если книга не найдена или уже взята, выведите соответствующее сообщение.\n",
        "     - `return_book(self, isbn: str)`: помечает книгу как возвращенную. Если книга не найдена или не была взята взаймы, выведите соответствующее сообщение.\n",
        "     - `list_available_books(self)`: печатает список всех доступных книг в библиотеке.\n",
        "     - `find_book(self, isbn: str)`: возвращает объект книги, если он найден, в противном случае возвращает `None`.\n",
        "\n",
        "3. **Взаимодействие с пользователем**:\n",
        "   - Создайте простое текстовое меню, которое позволит пользователям:\n",
        "     - Добавить книгу\n",
        "     - Одолжить книгу\n",
        "     - Вернуть книгу\n",
        "     - Список доступных книг\n",
        "     - Выйти из программы"
      ],
      "metadata": {
        "id": "pnIUdFPcGOVL"
      }
    },
    {
      "cell_type": "code",
      "source": [],
      "metadata": {
        "id": "GKKmdfN8GL6f"
      },
      "execution_count": null,
      "outputs": []
    },
    {
      "cell_type": "code",
      "source": [],
      "metadata": {
        "id": "ZXOWt9LeqWx0"
      },
      "execution_count": null,
      "outputs": []
    }
  ]
}