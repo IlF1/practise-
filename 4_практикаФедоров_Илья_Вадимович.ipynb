{
  "nbformat": 4,
  "nbformat_minor": 0,
  "metadata": {
    "colab": {
      "provenance": []
    },
    "kernelspec": {
      "name": "python3",
      "display_name": "Python 3"
    },
    "language_info": {
      "name": "python"
    }
  },
  "cells": [
    {
      "cell_type": "markdown",
      "source": [
        "Введите ваше ФИО:"
      ],
      "metadata": {
        "id": "k8oVfdwrMXyc"
      }
    },
    {
      "cell_type": "code",
      "execution_count": null,
      "metadata": {
        "id": "5mcBLsKMI1-5"
      },
      "outputs": [],
      "source": [
        "Федоров Илья Вадимович"
      ]
    },
    {
      "cell_type": "markdown",
      "source": [
        "***Дисклеймер***\n",
        "\n",
        "В данной практике запрещено использования функций:\n",
        "\n",
        "\n",
        "*   sum()\n",
        "*   min()\n",
        "*   max()\n",
        "*   average()\n",
        "*   reversed()\n",
        "*   sorted()\n",
        "*   готовые функции или библиотеки\n"
      ],
      "metadata": {
        "id": "8HbYUbm3Jw3o"
      }
    },
    {
      "cell_type": "markdown",
      "source": [],
      "metadata": {
        "id": "UCXl_Xa52Oxy"
      }
    },
    {
      "cell_type": "markdown",
      "source": [
        "\n",
        "**Задача 1:**\n",
        "\n",
        "\n",
        "\n",
        "Интернет-магазин предлагает следующие условия скидок:\n",
        "\n",
        "*   Для заказов больше 1000 единиц, клиент получает скидку 5%. Если клиент использует промокод SUPERDISCOUNT, он получает скидку 10% (вместо 5%).\n",
        "*  Для заказов более 5000 единиц, клиент получает скидку 15%, а использование промокода SUPERDISCOUNT увеличивает скидку до 20% (вместо 15%).\n",
        "\n",
        "Этап 1:\n",
        "Ввод:\n",
        "```\n",
        "Введите стоимость единицы товара: 5\n",
        "Введите количество товара: 1001\n",
        "Введите промокод: GiVEMEDISCONT\n",
        "```\n",
        "\n",
        "Вывод:\n",
        "\n",
        "```\n",
        "Ваша скидка: 5%\n",
        "Итоговая сумма: 4754.75\n",
        "```\n",
        "Этап 2:\n",
        "\n",
        "Оформите ваш код в виде функции"
      ],
      "metadata": {
        "id": "HmX0c6YPJSQr"
      }
    },
    {
      "cell_type": "code",
      "source": [],
      "metadata": {
        "id": "c_ZtDznRA0BZ"
      },
      "execution_count": null,
      "outputs": []
    },
    {
      "cell_type": "code",
      "source": [
        "def finalp(price,kol,pr,promo):\n",
        "  if kol>5000 and promo==\"SUPERDISCOUNT\":\n",
        "    return pr+20\n",
        "  if 1000<kol<=5000 and promo ==\"SUPERDISCOUNT\":\n",
        "    return pr+10\n",
        "  if kol<=11000:\n",
        "    return pr\n",
        "  if kol>5000 and promo ==\"\":\n",
        "    return pr+15\n",
        "  if 1000<kol<=5000 and promo ==\"\":\n",
        "    return pr+5\n",
        "  else:\n",
        "    return pr\n",
        "\n",
        "\n",
        "pr=0\n",
        "price=int(input(\"vvedi цену товара:\"))\n",
        "kol=int(input(\"vvedi kol-vo едениц товара:\"))\n",
        "promo=input(\"Введи промокод:\")\n",
        "print(\"ваша скидка равна\",finalp(price,kol,pr,promo),\"%\")\n",
        "print(\"цена покупки равна\", (kol*price)*(100-finalp(price,kol,pr,promo))/100)\n",
        "\n",
        "\n",
        "\n",
        "\n"
      ],
      "metadata": {
        "id": "OAIMIpklMN5D",
        "colab": {
          "base_uri": "https://localhost:8080/"
        },
        "outputId": "e92fb734-51a4-469a-b935-58d344f1c5c9"
      },
      "execution_count": null,
      "outputs": [
        {
          "output_type": "stream",
          "name": "stdout",
          "text": [
            "vvedi цену товара:1\n",
            "vvedi kol-vo едениц товара:11100\n",
            "Введи промокод:SUPERDISCOUNT\n",
            "ваша скидка равна 20 %\n",
            "цена покупки равна 8880.0\n"
          ]
        }
      ]
    },
    {
      "cell_type": "markdown",
      "source": [
        "**Задача 2:**\n",
        "\n",
        "Этап 1:\n",
        "Напишите программу способную отфильтровать список и вывести только положительные элементы\n",
        "\n",
        "\n",
        "Ввод:\n",
        "```\n",
        "-1 5 1 2 -3\n",
        "```\n",
        "\n",
        "Вывод:\n",
        "\n",
        "```\n",
        "5 1 2\n",
        "```\n",
        "\n",
        "Этап 2:\n",
        "\n",
        "Оформите ваш код в виде функции"
      ],
      "metadata": {
        "id": "eeRVWpuLNGJ0"
      }
    },
    {
      "cell_type": "code",
      "source": [
        "def sp(ss):\n",
        "  return' '.join([i for i in ss.split() if int(i)  >0])\n",
        "\n",
        "\n",
        "print(sp(input(\"введи список элементов\")))\n",
        "\n"
      ],
      "metadata": {
        "id": "Xbi6bL0WOE9N",
        "colab": {
          "base_uri": "https://localhost:8080/"
        },
        "outputId": "d3fa04ee-f3c6-45d1-b2db-d8c7d8ae514f"
      },
      "execution_count": null,
      "outputs": [
        {
          "output_type": "stream",
          "name": "stdout",
          "text": [
            "введи список элементов98 9202 -1 -123\n",
            "98 9202\n"
          ]
        }
      ]
    },
    {
      "cell_type": "markdown",
      "source": [
        "**Задача 3:**\n",
        "\n",
        "Этап 1:\n",
        "Напишите программу реализующую Алгоритм Евклида\n",
        "\n",
        "\n",
        "> Алгоритм Евклида – это алгоритм нахождения наибольшего общего делителя (НОД) пары целых чисел.\n",
        "\n",
        "\n",
        "\n",
        "Ввод:\n",
        "```\n",
        "30 18\n",
        "```\n",
        "\n",
        "Вывод:\n",
        "\n",
        "```\n",
        "6\n",
        "```\n",
        "\n",
        "Этап 2:\n",
        "Оформите ваш код в виде функции\n"
      ],
      "metadata": {
        "id": "lV-w6G-POa6F"
      }
    },
    {
      "cell_type": "code",
      "source": [],
      "metadata": {
        "id": "X2n6fnd91yt7"
      },
      "execution_count": null,
      "outputs": []
    },
    {
      "cell_type": "code",
      "source": [
        "def n(a, b):\n",
        "    if b == 0:\n",
        "        return a\n",
        "    else:\n",
        "        return  n(b,a % b)\n",
        "\n",
        "a = int(input('Введите первое число: '))\n",
        "b = int(input('Введите второе число: '))\n",
        "print(\"НОД чисел\", a,\"и\", b, \"=\", n(a,b))"
      ],
      "metadata": {
        "id": "43Dl5tIpOZsu",
        "colab": {
          "base_uri": "https://localhost:8080/"
        },
        "outputId": "90e2f547-2d38-4276-a320-96781a330b98"
      },
      "execution_count": null,
      "outputs": [
        {
          "output_type": "stream",
          "name": "stdout",
          "text": [
            "Введите первое число: 10\n",
            "Введите второе число: 5\n",
            "НОД чисел 10 и 5 = 5\n"
          ]
        }
      ]
    },
    {
      "cell_type": "markdown",
      "source": [
        "**Задача 4:**\n",
        "\n",
        "Этап 1:\n",
        "Напишите функцию программу, которая принимает строку и возвращает список слов и количество их упомнинаний в предложении\n",
        "\n",
        "Этап 2:\n",
        "Оформите ваш код в виде функции\n",
        "\n",
        "Ввод:\n",
        "```\n",
        "apple banana apple\n",
        "```\n",
        "\n",
        "Вывод:\n",
        "\n",
        "```\n",
        "apple: 2,\n",
        "banana: 1\n",
        "```"
      ],
      "metadata": {
        "id": "WIfPFxpsO0zL"
      }
    },
    {
      "cell_type": "code",
      "source": [
        "def f(string):\n",
        "    words = string.split()\n",
        "    slovar = {}\n",
        "    for i in words:\n",
        "        if i in slovar:\n",
        "            slovar[i] += 1\n",
        "        else:\n",
        "            slovar[i] = 1\n",
        "    return slovar\n",
        "\n",
        "string=input(\"Введи строку, состоящую из слов \")\n",
        "print(f(string))\n",
        "\n",
        "\n",
        "\n",
        "\n",
        "\n"
      ],
      "metadata": {
        "id": "DgsmFeW5Po_x",
        "colab": {
          "base_uri": "https://localhost:8080/"
        },
        "outputId": "ff15f1e3-a3cb-42fe-c3bb-b0124a1603df"
      },
      "execution_count": null,
      "outputs": [
        {
          "output_type": "stream",
          "name": "stdout",
          "text": [
            "Введи строку, состоящую из слов я ты мы мама я\n",
            "{'я': 2, 'ты': 1, 'мы': 1, 'мама': 1}\n"
          ]
        }
      ]
    },
    {
      "cell_type": "markdown",
      "source": [
        "**Задача 5:**\n",
        "\n",
        "Этап 1:\n",
        "Детектор анаграмм Напишите программу на Python, которая принимает в качестве входных данных две строки и проверяет, являются ли они анаграммами друг друга\n",
        "\n",
        "Этап 2:\n",
        "Оформите ваш код в виде функции\n",
        "\n",
        "Ввод:\n",
        "```\n",
        "listen, silent\n",
        "```\n",
        "\n",
        "Вывод:\n",
        "\n",
        "```\n",
        "True\n",
        "```"
      ],
      "metadata": {
        "id": "5BmIJLUZP9I-"
      }
    },
    {
      "cell_type": "code",
      "source": [
        "s"
      ],
      "metadata": {
        "id": "MIsuuyIXrutX"
      },
      "execution_count": null,
      "outputs": []
    },
    {
      "cell_type": "code",
      "source": [
        "def f(s1,s2):\n",
        "  if sorted(s1)==sorted(s2):\n",
        "    return True\n",
        "  else:\n",
        "    return False\n",
        "\n",
        "s1=input(\"введи первую строку \")\n",
        "s2=input(\"введи вторую строку \")\n",
        "print(f(s1,s2))\n",
        "\n",
        "#from collections import Counter\n",
        "\n",
        "#def An (s_one, s_two):\n",
        "   # s_onedict = Counter(s_one)\n",
        "   # s_twodict = Counter(s_two)\n",
        "   # if s_onedict == s_twodict:\n",
        "    #    return True\n",
        "   # else:\n",
        "    #    return False\n",
        "#print(An(s_one,s_two))"
      ],
      "metadata": {
        "id": "7LNW8DuHQJwH",
        "colab": {
          "base_uri": "https://localhost:8080/"
        },
        "outputId": "0575353a-7b6b-4e67-999e-2ccd1bffc052"
      },
      "execution_count": null,
      "outputs": [
        {
          "output_type": "stream",
          "name": "stdout",
          "text": [
            "введи первую строку asqs\n",
            "введи вторую строку jio\n",
            "False\n"
          ]
        }
      ]
    },
    {
      "cell_type": "markdown",
      "source": [
        "**Задача 6:**\n",
        "\n",
        "Шифр ​​Цезаря\n",
        "\n",
        "Напишите программу на Python, которая реализует шифр Цезаря, простой метод шифрования, который заменяет каждую букву буквой на фиксированное количество позиций вниз по алфавиту. Программа должна запрашивать у пользователя сообщение и значение сдвига, а затем шифровать и расшифровывать сообщение.\n",
        "\n",
        "Этап 1:\n",
        "\n",
        "Напишите код для реализации данной задачи\n",
        "\n",
        "Этап 2:\n",
        "\n",
        "Оформите код в виде нескольких функций:\n",
        "\n",
        "* Зашифровывает сообщение\n",
        "* Расшифровывает сообщение"
      ],
      "metadata": {
        "id": "-SIWYSq2QKBh"
      }
    },
    {
      "cell_type": "code",
      "source": [
        "alfaviteng =  'ABCDEFGHIJKLMNOPQRSTUVWXYZABCDEFGHIJKLMNOPQRSTUVWXYZ'\n",
        "alfavitrus = 'АБВГДЕЁЖЗИЙКЛМНОПРСТУФХЦЧШЩЪЫЬЭЮЯАБВГДЕЁЖЗИЙКЛМНОПРСТУФХЦЧШЩЪЫЬЭЮЯ'\n",
        "n=input(\"введи комманду для шифровк - Ш или расшифровки сообщения -Р \")\n",
        "if n==\"Ш\":\n",
        "  smeshenie = int(input('Шаг шифровки: '))\n",
        "  itog = ''\n",
        "  lang = input('Выберите язык: rus/eng: ')\n",
        "  message = input(\"Сообщение для шифровки: \").upper()\n",
        "  if lang == 'rus':\n",
        "      for i in message:\n",
        "          mesto = alfavitrus.find(i)\n",
        "          new_mesto = mesto + smeshenie\n",
        "          if i in alfavitrus:\n",
        "              itog += alfavitrus[new_mesto]\n",
        "          else:\n",
        "              itog += i\n",
        "  else:\n",
        "      for i in message:\n",
        "          mesto = alfaviteng.find(i)\n",
        "          new_mesto = mesto + smeshenie\n",
        "          if i in alfaviteng:\n",
        "              itog += alfaviteng[new_mesto]\n",
        "          else:\n",
        "              itog += i\n",
        "  print(itog)\n",
        "\n",
        "if n==\"Р\":\n",
        "  smeshenie = int(input('Шаг шифровки: '))\n",
        "  itog = ''\n",
        "  lang = input('Выберите язык: rus/eng: ')\n",
        "  message = input(\"Сообщение для ДЕшифровки: \").upper()\n",
        "  if lang == 'rus':\n",
        "      for i in message:\n",
        "          mesto = alfavitrus.find(i)\n",
        "          new_mesto = mesto - smeshenie\n",
        "          if i in alfavitrus:\n",
        "              itog += alfavitrus[new_mesto]\n",
        "          else:\n",
        "              itog += i\n",
        "  else:\n",
        "      for i in message:\n",
        "          mesto = alfaviteng.find(i)\n",
        "          new_mesto = mesto - smeshenie\n",
        "          if i in alfaviteng:\n",
        "              itog += alfaviteng[new_mesto]\n",
        "          else:\n",
        "              itog += i\n",
        "  print (itog)\n",
        "else:\n",
        "  print(\"введена неправильная комманда, повтори попытку\")\n"
      ],
      "metadata": {
        "id": "anThYirsQe6N",
        "colab": {
          "base_uri": "https://localhost:8080/"
        },
        "outputId": "035bc48e-6def-462c-aadd-03bdfb2f2a4b"
      },
      "execution_count": null,
      "outputs": [
        {
          "output_type": "stream",
          "name": "stdout",
          "text": [
            "введи комманду для шифровк - Ш или расшифровки сообщения -Р Р\n",
            "Шаг шифровки: 5\n",
            "Сообщение для ДЕшифровки: ге на\n",
            "Выберите язык: rus/eng: rus\n",
            "ЮА ИЫ\n"
          ]
        }
      ]
    },
    {
      "cell_type": "markdown",
      "source": [
        "**Задача 7**\n",
        "\n",
        "Задача: «Банковская система»\n",
        "\n",
        "Создайте программу Python, которая имитирует базовую банковскую систему. Система должна иметь следующие функции:\n",
        "\n",
        "Требования\n",
        "*   Система должна позволять клиентам создавать счета и хранить их балансы.\n",
        "*   Система должна позволять клиентам вносить и снимать деньги со своих счетов.\n",
        "*   Система должна позволять клиентам проверять свой текущий баланс.\n",
        "*   Система должна позволять клиентам переводить деньги между счетами.\n",
        "*   Система должна отслеживать транзакции (депозиты, снятия и переводы) и иметь возможность печатать детали транзакций.\n",
        "\n",
        "\n",
        "Задачи\n",
        "1. Реализуйте банковскую систему, используя только базовые конструкции Python, такие как def, lists, if, elif и else, без классов или словарей.\n",
        "Определите функции для создания счетов, внесения и снятия денег, получения балансов счетов, перевода денег между счетами, а также создания и печати транзакций.\n",
        "2. Напишите основную функцию, которая демонстрирует использование банковской системы путем создания счетов, внесения и снятия денег и перевода денег между счетами.\n",
        "3. Бонусное задание\n",
        "Реализуйте способ хранения и печати истории транзакций для каждого счета.\n",
        "\n",
        "Ограничения\n",
        "Не используйте классы или словари.\n",
        "Используйте только базовые конструкции Python, такие как def, lists, if, elif и else.\n"
      ],
      "metadata": {
        "id": "avFZRRXrQz9O"
      }
    },
    {
      "cell_type": "code",
      "source": [
        "def create_account(accounts, balances, transactions):\n",
        "    account_number = len(accounts)\n",
        "    accounts.append(account_number)\n",
        "    balances.append(0)\n",
        "    transactions.append([])\n",
        "    return account_number\n",
        "\n",
        "def deposit(accounts, balances, transactions, account_number, amount):\n",
        "    if account_number in accounts and amount > 0:\n",
        "        balances[account_number] += amount\n",
        "        transactions[account_number].append(f\"Депозит: +{amount}\")\n",
        "        return True\n",
        "    return False\n",
        "\n",
        "def withdraw(accounts, balances, transactions, account_number, amount):\n",
        "    if account_number in accounts and 0 < amount <= balances[account_number]:\n",
        "        balances[account_number] -= amount\n",
        "        transactions[account_number].append(f\"Снятие: -{amount}\")\n",
        "        return True\n",
        "    return False\n",
        "\n",
        "def check_balance(balances, account_number):\n",
        "    if account_number in range(len(balances)):\n",
        "        return balances[account_number]\n",
        "    return None\n",
        "\n",
        "def transfer(accounts, balances, transactions, from_account, to_account, amount):\n",
        "    if (from_account in accounts and\n",
        "        to_account in accounts and\n",
        "        from_account != to_account and\n",
        "        0 < amount <= balances[from_account]):\n",
        "\n",
        "        balances[from_account] -= amount\n",
        "        balances[to_account] += amount\n",
        "        transactions[from_account].append(f\"Перевод: -{amount} на счет {to_account}\")\n",
        "        transactions[to_account].append(f\"Перевод: +{amount} со счета {from_account}\")\n",
        "        return True\n",
        "    return False\n",
        "\n",
        "def print_transactions(transactions, account_number):\n",
        "    if account_number in range(len(transactions)):\n",
        "        for transaction in transactions[account_number]:\n",
        "            print(transaction)\n",
        "    else:\n",
        "        print(\"Неверный номер счета.\")\n",
        "\n",
        "\n",
        "def main():\n",
        "    accounts = []\n",
        "    balances = []\n",
        "    transactions = []\n",
        "\n",
        "    while True:\n",
        "        print(\"\\n1: Создать счет\")\n",
        "        print(\"2: Внести депозит\")\n",
        "        print(\"3: Снять деньги\")\n",
        "        print(\"4: Проверить баланс\")\n",
        "        print(\"5: Перевод денег\")\n",
        "        print(\"6: История транзакций\")\n",
        "        print(\"7: Выход\")\n",
        "\n",
        "        choice = input(\"Выберите опцию: \")\n",
        "\n",
        "        if choice == '1':\n",
        "            account_number = create_account(accounts, balances, transactions)\n",
        "            print(f\"Счет создан. Номер счета: {account_number}\")\n",
        "\n",
        "        elif choice == '2':\n",
        "            account_number = int(input(\"Введите номер счета: \"))\n",
        "            amount = float(input(\"Введите сумму депозита: \"))\n",
        "            if deposit(accounts, balances, transactions, account_number, amount):\n",
        "                print(\"Депозит успешно внесен.\")\n",
        "            else:\n",
        "                print(\"Ошибка внесения депозита.\")\n",
        "\n",
        "        elif choice == '3':\n",
        "            account_number = int(input(\"Введите номер счета: \"))\n",
        "            amount = float(input(\"Введите сумму для снятия: \"))\n",
        "            if withdraw(accounts, balances, transactions, account_number, amount):\n",
        "                print(\"Средства успешно сняты.\")\n",
        "            else:\n",
        "                print(\"Ошибка снятия.\")\n",
        "\n",
        "        elif choice == '4':\n",
        "            account_number = int(input(\"Введите номер счета: \"))\n",
        "            balance = check_balance(balances, account_number)\n",
        "            if balance is not None:\n",
        "                print(f\"Баланс счета {account_number}: {balance}\")\n",
        "            else:\n",
        "                print(\"Неверный номер счета.\")\n",
        "\n",
        "        elif choice == '5':\n",
        "            from_account = int(input(\"Введите номер вашего счета: \"))\n",
        "            to_account = int(input(\"Введите номер счета получателя: \"))\n",
        "            amount = float(input(\"Введите сумму перевода: \"))\n",
        "            if transfer(accounts, balances, transactions, from_account, to_account, amount):\n",
        "                print(\"Перевод выполнен успешно.\")\n",
        "            else:\n",
        "                print(\"Ошибка перевода.\")\n",
        "\n",
        "        elif choice == '6':\n",
        "            account_number = int(input(\"Введите номер счета: \"))\n",
        "            print_transactions(transactions, account_number)\n",
        "\n",
        "        elif choice == '7':\n",
        "            print(\"Выход из программы.\")\n",
        "            break\n",
        "\n",
        "        else:\n",
        "            print(\"Неверный выбор. Повторите попытку.\")\n",
        "\n",
        "if __name__ == \"__main__\":\n",
        "    main()\n",
        "\n"
      ],
      "metadata": {
        "colab": {
          "base_uri": "https://localhost:8080/",
          "height": 478
        },
        "id": "dWEW10zIRwjs",
        "outputId": "6051edec-d36b-4a76-c5de-dac21945cd68"
      },
      "execution_count": null,
      "outputs": [
        {
          "output_type": "stream",
          "name": "stdout",
          "text": [
            "\n",
            "1: Создать счет\n",
            "2: Внести депозит\n",
            "3: Снять деньги\n",
            "4: Проверить баланс\n",
            "5: Перевод денег\n",
            "6: История транзакций\n",
            "7: Выход\n"
          ]
        },
        {
          "output_type": "error",
          "ename": "KeyboardInterrupt",
          "evalue": "Interrupted by user",
          "traceback": [
            "\u001b[0;31m---------------------------------------------------------------------------\u001b[0m",
            "\u001b[0;31mKeyboardInterrupt\u001b[0m                         Traceback (most recent call last)",
            "\u001b[0;32m<ipython-input-1-002f3e116e30>\u001b[0m in \u001b[0;36m<cell line: 112>\u001b[0;34m()\u001b[0m\n\u001b[1;32m    111\u001b[0m \u001b[0;34m\u001b[0m\u001b[0m\n\u001b[1;32m    112\u001b[0m \u001b[0;32mif\u001b[0m \u001b[0m__name__\u001b[0m \u001b[0;34m==\u001b[0m \u001b[0;34m\"__main__\"\u001b[0m\u001b[0;34m:\u001b[0m\u001b[0;34m\u001b[0m\u001b[0;34m\u001b[0m\u001b[0m\n\u001b[0;32m--> 113\u001b[0;31m     \u001b[0mmain\u001b[0m\u001b[0;34m(\u001b[0m\u001b[0;34m)\u001b[0m\u001b[0;34m\u001b[0m\u001b[0;34m\u001b[0m\u001b[0m\n\u001b[0m\u001b[1;32m    114\u001b[0m \u001b[0;34m\u001b[0m\u001b[0m\n",
            "\u001b[0;32m<ipython-input-1-002f3e116e30>\u001b[0m in \u001b[0;36mmain\u001b[0;34m()\u001b[0m\n\u001b[1;32m     60\u001b[0m         \u001b[0mprint\u001b[0m\u001b[0;34m(\u001b[0m\u001b[0;34m\"7: Выход\"\u001b[0m\u001b[0;34m)\u001b[0m\u001b[0;34m\u001b[0m\u001b[0;34m\u001b[0m\u001b[0m\n\u001b[1;32m     61\u001b[0m \u001b[0;34m\u001b[0m\u001b[0m\n\u001b[0;32m---> 62\u001b[0;31m         \u001b[0mchoice\u001b[0m \u001b[0;34m=\u001b[0m \u001b[0minput\u001b[0m\u001b[0;34m(\u001b[0m\u001b[0;34m\"Выберите опцию: \"\u001b[0m\u001b[0;34m)\u001b[0m\u001b[0;34m\u001b[0m\u001b[0;34m\u001b[0m\u001b[0m\n\u001b[0m\u001b[1;32m     63\u001b[0m \u001b[0;34m\u001b[0m\u001b[0m\n\u001b[1;32m     64\u001b[0m         \u001b[0;32mif\u001b[0m \u001b[0mchoice\u001b[0m \u001b[0;34m==\u001b[0m \u001b[0;34m'1'\u001b[0m\u001b[0;34m:\u001b[0m\u001b[0;34m\u001b[0m\u001b[0;34m\u001b[0m\u001b[0m\n",
            "\u001b[0;32m/usr/local/lib/python3.10/dist-packages/ipykernel/kernelbase.py\u001b[0m in \u001b[0;36mraw_input\u001b[0;34m(self, prompt)\u001b[0m\n\u001b[1;32m    849\u001b[0m                 \u001b[0;34m\"raw_input was called, but this frontend does not support input requests.\"\u001b[0m\u001b[0;34m\u001b[0m\u001b[0;34m\u001b[0m\u001b[0m\n\u001b[1;32m    850\u001b[0m             )\n\u001b[0;32m--> 851\u001b[0;31m         return self._input_request(str(prompt),\n\u001b[0m\u001b[1;32m    852\u001b[0m             \u001b[0mself\u001b[0m\u001b[0;34m.\u001b[0m\u001b[0m_parent_ident\u001b[0m\u001b[0;34m,\u001b[0m\u001b[0;34m\u001b[0m\u001b[0;34m\u001b[0m\u001b[0m\n\u001b[1;32m    853\u001b[0m             \u001b[0mself\u001b[0m\u001b[0;34m.\u001b[0m\u001b[0m_parent_header\u001b[0m\u001b[0;34m,\u001b[0m\u001b[0;34m\u001b[0m\u001b[0;34m\u001b[0m\u001b[0m\n",
            "\u001b[0;32m/usr/local/lib/python3.10/dist-packages/ipykernel/kernelbase.py\u001b[0m in \u001b[0;36m_input_request\u001b[0;34m(self, prompt, ident, parent, password)\u001b[0m\n\u001b[1;32m    893\u001b[0m             \u001b[0;32mexcept\u001b[0m \u001b[0mKeyboardInterrupt\u001b[0m\u001b[0;34m:\u001b[0m\u001b[0;34m\u001b[0m\u001b[0;34m\u001b[0m\u001b[0m\n\u001b[1;32m    894\u001b[0m                 \u001b[0;31m# re-raise KeyboardInterrupt, to truncate traceback\u001b[0m\u001b[0;34m\u001b[0m\u001b[0;34m\u001b[0m\u001b[0m\n\u001b[0;32m--> 895\u001b[0;31m                 \u001b[0;32mraise\u001b[0m \u001b[0mKeyboardInterrupt\u001b[0m\u001b[0;34m(\u001b[0m\u001b[0;34m\"Interrupted by user\"\u001b[0m\u001b[0;34m)\u001b[0m \u001b[0;32mfrom\u001b[0m \u001b[0;32mNone\u001b[0m\u001b[0;34m\u001b[0m\u001b[0;34m\u001b[0m\u001b[0m\n\u001b[0m\u001b[1;32m    896\u001b[0m             \u001b[0;32mexcept\u001b[0m \u001b[0mException\u001b[0m \u001b[0;32mas\u001b[0m \u001b[0me\u001b[0m\u001b[0;34m:\u001b[0m\u001b[0;34m\u001b[0m\u001b[0;34m\u001b[0m\u001b[0m\n\u001b[1;32m    897\u001b[0m                 \u001b[0mself\u001b[0m\u001b[0;34m.\u001b[0m\u001b[0mlog\u001b[0m\u001b[0;34m.\u001b[0m\u001b[0mwarning\u001b[0m\u001b[0;34m(\u001b[0m\u001b[0;34m\"Invalid Message:\"\u001b[0m\u001b[0;34m,\u001b[0m \u001b[0mexc_info\u001b[0m\u001b[0;34m=\u001b[0m\u001b[0;32mTrue\u001b[0m\u001b[0;34m)\u001b[0m\u001b[0;34m\u001b[0m\u001b[0;34m\u001b[0m\u001b[0m\n",
            "\u001b[0;31mKeyboardInterrupt\u001b[0m: Interrupted by user"
          ]
        }
      ]
    }
  ]
}