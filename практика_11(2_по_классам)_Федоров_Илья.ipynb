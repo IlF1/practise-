{
  "nbformat": 4,
  "nbformat_minor": 0,
  "metadata": {
    "colab": {
      "provenance": [],
      "include_colab_link": true
    },
    "kernelspec": {
      "name": "python3",
      "display_name": "Python 3"
    },
    "language_info": {
      "name": "python"
    }
  },
  "cells": [
    {
      "cell_type": "markdown",
      "metadata": {
        "id": "view-in-github",
        "colab_type": "text"
      },
      "source": [
        "<a href=\"https://colab.research.google.com/github/IlF1/practise-/blob/main/%D0%BF%D1%80%D0%B0%D0%BA%D1%82%D0%B8%D0%BA%D0%B0_11(2_%D0%BF%D0%BE_%D0%BA%D0%BB%D0%B0%D1%81%D1%81%D0%B0%D0%BC)_%D0%A4%D0%B5%D0%B4%D0%BE%D1%80%D0%BE%D0%B2_%D0%98%D0%BB%D1%8C%D1%8F.ipynb\" target=\"_parent\"><img src=\"https://colab.research.google.com/assets/colab-badge.svg\" alt=\"Open In Colab\"/></a>"
      ]
    },
    {
      "cell_type": "markdown",
      "source": [
        "**ФИО:**"
      ],
      "metadata": {
        "id": "GEsFKJm-ABFp"
      }
    },
    {
      "cell_type": "code",
      "execution_count": null,
      "metadata": {
        "id": "wZMLYG_G_-19"
      },
      "outputs": [],
      "source": [
        "Федоров Илья Вадимович"
      ]
    },
    {
      "cell_type": "markdown",
      "source": [
        "# Задание 1"
      ],
      "metadata": {
        "id": "H4DrYnJjADuZ"
      }
    },
    {
      "cell_type": "markdown",
      "source": [
        "**Описание:** Создайте иерархию классов для разных типов сотрудников в компании. Реализуйте родительский класс Employee и дочерние классы Manager и Developer. Каждый класс должен иметь метод для расчета зарплаты на основе различных критериев класса.\n",
        "\n",
        "\n",
        "Отрабатываемый принцип: Наследование\n",
        "\n"
      ],
      "metadata": {
        "id": "C17FWep-AF4a"
      }
    },
    {
      "cell_type": "code",
      "source": [
        "class Employee:\n",
        "\n",
        "  def __init__(self, salary):\n",
        "    self.common_salary=salary\n",
        "\n",
        "  def money_making(self):\n",
        "    total=self.common_salary\n",
        "    return f'Зарплата обычного работника в компании = {total}'\n",
        "\n",
        "\n",
        "class Manager(Employee):\n",
        "\n",
        "  def __init__(self,salary, more_money):\n",
        "    super().__init__(salary)\n",
        "    self.more_money=more_money#бонусы за выполненную работу\n",
        "\n",
        "  def money_making(self):\n",
        "      # Зарплата менеджера = базовая зарплата + больше денег\n",
        "      total=self.common_salary + self.more_money\n",
        "      return f' зарплата мэнеджера в компании ={total}'\n",
        "\n",
        "\n",
        "class Developer(Employee):\n",
        "\n",
        "  def __init__(self,salary,lot_of_money):\n",
        "    super().__init__(salary)\n",
        "    self.award=lot_of_money #премия за выполненную работу\n",
        "\n",
        "  def money_making(self):\n",
        "    total=self.common_salary+self.award\n",
        "    return f' зарплата разработчика в компании ={total}'\n",
        "\n",
        "\n",
        "worker1=Employee(100000)\n",
        "worker2=Manager(150000,15000)\n",
        "worker3=Developer(245000,29000)\n",
        "print(worker1.money_making())\n",
        "print(worker2.money_making())\n",
        "print(worker3.money_making())\n",
        "\n",
        "\n"
      ],
      "metadata": {
        "id": "aexGXzqCAFH7",
        "colab": {
          "base_uri": "https://localhost:8080/"
        },
        "outputId": "76966710-23ce-4bfa-8ffa-9af41f0d3dd2"
      },
      "execution_count": null,
      "outputs": [
        {
          "output_type": "stream",
          "name": "stdout",
          "text": [
            "Зарплата обычного работника в компании = 100000\n",
            " зарплата мэнеджера в компании =165000\n",
            " зарплата разработчика в компании =274000\n"
          ]
        }
      ]
    },
    {
      "cell_type": "markdown",
      "source": [
        "# Задание 2"
      ],
      "metadata": {
        "id": "ERAi0TG5BI6v"
      }
    },
    {
      "cell_type": "markdown",
      "source": [
        "**Описание:** Создайте иерархию классов для различных типов транспортных средств (Необходим один родительский класс и 3 дочерних). Реализуйте метод, который позволяет каждому транспортному средству возвращать собственное описание (Метод в каждом классе должен иметь одинаковое название). Продемонстрируйте вызов данного метода для каждого транспортного средства.\n",
        "\n",
        "\n",
        "Отрабатываемый принцип: Полиморфизм"
      ],
      "metadata": {
        "id": "sJ3k7ZcgBK87"
      }
    },
    {
      "cell_type": "code",
      "source": [
        "\n",
        "class Vehicles:\n",
        "\n",
        "    def __init__(self, type_of_movement, size):\n",
        "        self.type_of_movement = type_of_movement\n",
        "        self.size = size\n",
        "\n",
        "class Tractor(Vehicles):\n",
        "\n",
        "    def __init__(self, type_of_movement, size, purpose):\n",
        "        super().__init__(type_of_movement, size)\n",
        "        self.purpose = purpose\n",
        "\n",
        "    def opt(self):\n",
        "        return f'У трактора вид передвижения - {self.type_of_movement}, размер в метрах - {self.size}, цель назначения - {self.purpose}'\n",
        "\n",
        "class Yacht(Vehicles):\n",
        "\n",
        "    def __init__(self, type_of_movement, size, purpose):\n",
        "        super().__init__(type_of_movement, size)\n",
        "        self.purpose = purpose\n",
        "\n",
        "    def opt(self):\n",
        "        return f'У яхты вид передвижения - {self.type_of_movement}, размер в метрах - {self.size}, цель назначения - {self.purpose}'\n",
        "\n",
        "class ATVs(Vehicles):\n",
        "\n",
        "    def __init__(self, type_of_movement, size, purpose):\n",
        "        super().__init__(type_of_movement, size)\n",
        "        self.purpose = purpose\n",
        "\n",
        "    def opt(self):\n",
        "        return f'У квадроцикла вид передвижения - {self.type_of_movement}, размер в метрах - {self.size}, цель назначения - {self.purpose}'\n",
        "\n",
        "vehicle1 = Tractor(\"наземный\", \"3 метра на 4 метра\", \"сельхозработы\")\n",
        "vehicle2 = Yacht(\"водный\", \"6 метров на 15 метров\", \"отдых, круизы\")\n",
        "vehicle3 = ATVs(\"наземный\", \"1 метр на 1,5 метра\", \"туризм, отдых\")\n",
        "\n",
        "print(vehicle1.opt())\n",
        "print(vehicle2.opt())\n",
        "print(vehicle3.opt())\n",
        "\n"
      ],
      "metadata": {
        "id": "WOFOZQmDBKf4",
        "colab": {
          "base_uri": "https://localhost:8080/"
        },
        "outputId": "b65e5955-325c-4d1b-a92c-13e3cc0786e3"
      },
      "execution_count": null,
      "outputs": [
        {
          "output_type": "stream",
          "name": "stdout",
          "text": [
            "У трактора вид передвижения - наземный, размер в метрах - 3 метра на 4 метра, цель назначения - сельхозработы\n",
            "У яхты вид передвижения - водный, размер в метрах - 6 метров на 15 метров, цель назначения - отдых, круизы\n",
            "У квадроцикла вид передвижения - наземный, размер в метрах - 1 метр на 1,5 метра, цель назначения - туризм, отдых\n"
          ]
        }
      ]
    },
    {
      "cell_type": "markdown",
      "source": [
        "# Задание 3"
      ],
      "metadata": {
        "id": "7E_SJXMJBvD4"
      }
    },
    {
      "cell_type": "markdown",
      "source": [
        "Онлайн-магазин:\n",
        "- Создайте модель для онлайн-магазина с классами Product, Order, Customer, и ShoppingCart.\n",
        "- Product включает информацию о цене, наличии на складе и категории товара.\n",
        "Order обрабатывает процесс покупки, включая расчет цены с учетом скидок и налогов.\n",
        "- Customer управляет информацией о пользователе и его истории заказов.\n",
        "- ShoppingCart позволяет добавлять, удалять и обновлять количество товаров перед оформлением заказа.\n"
      ],
      "metadata": {
        "id": "dd1mwKj_BxHa"
      }
    },
    {
      "cell_type": "code",
      "source": [
        "class Product:\n",
        "    def __init__(self, name, price, available, category):\n",
        "        self.name = name\n",
        "        self.price = price  # Цена товара\n",
        "        self.available = available  # Доступность товара\n",
        "        self.category = category  # Категория товара\n",
        "\n",
        "\n",
        "class Order:\n",
        "    def __init__(self, product, quantity):\n",
        "        self.product = product  # Продукт в заказе\n",
        "        self.quantity = quantity  # Количество товара\n",
        "        self.sale = 0  # Скидка\n",
        "        self.taxes = 0  # Налоги\n",
        "\n",
        "    def apply_discount(self, sale):\n",
        "        self.sale = sale / 100  # Преобразуем скидку в долю\n",
        "\n",
        "    def finalize_order(self, tax_percentage):\n",
        "        self.taxes = tax_percentage / 100  # Преобразуем налог в долю\n",
        "        total_price = (self.product.price * self.quantity) * (1 - self.sale) * (1 + self.taxes)\n",
        "        return total_price\n",
        "\n",
        "\n",
        "class Customer:\n",
        "    def __init__(self, name, city):\n",
        "        self.name = name  # Имя клиента\n",
        "        self.city = city  # Город клиента\n",
        "\n",
        "    def info(self):\n",
        "        return f'Имя заказчика - {self.name}, из города {self.city}'\n",
        "\n",
        "\n",
        "class ShoppingCart:\n",
        "    def __init__(self):\n",
        "        self.items = []  # Список товаров в корзине\n",
        "\n",
        "    def add_product(self, product, quantity):\n",
        "        order = Order(product, quantity)\n",
        "        self.items.append(order)\n",
        "\n",
        "    def total_amount(self, tax_percentage):\n",
        "        total = 0\n",
        "        for order in self.items:\n",
        "            total += order.finalize_order(tax_percentage)\n",
        "        return total\n",
        "\n",
        "\n",
        "# Примеры использования\n",
        "product1 = Product(\"Laptop\", 100000, \"available\", \"Electronics\")\n",
        "product2 = Product(\"Phone\", 50000, \"out of stock\", \"Mobile Phones\")\n",
        "\n",
        "# Создание клиента\n",
        "customer = Customer(\"Jordan MArtenes\", \"Los Angeles\")\n",
        "print(customer.info())\n",
        "\n",
        "# Создание корзины покупок и добавление товаров\n",
        "cart = ShoppingCart()\n",
        "cart.add_product(product1, 1)  # Добавляем один ноутбук\n",
        "cart.add_product(product2, 2)  # Добавляем два телефона\n",
        "\n",
        "# Применение скидки на первый товар (ноутбук)\n",
        "cart.items[0].apply_discount(10)  # Применение скидки 10%\n",
        "\n",
        "# Финализация заказа с налогом 5%\n",
        "final_amount = cart.total_amount(tax_percentage=5)\n",
        "\n",
        "print(f\"Итоговая сумма заказа: {final_amount:.2f} руб.\")"
      ],
      "metadata": {
        "id": "wkCcv_K-Bwdv",
        "colab": {
          "base_uri": "https://localhost:8080/"
        },
        "outputId": "0334ed13-19b7-40b3-8421-bb998fd653f5"
      },
      "execution_count": null,
      "outputs": [
        {
          "output_type": "stream",
          "name": "stdout",
          "text": [
            "Имя заказчика - Jordan MArtenes, из города Los Angeles\n",
            "Итоговая сумма заказа: 199500.00 руб.\n"
          ]
        }
      ]
    },
    {
      "cell_type": "markdown",
      "source": [
        "# Задание 4"
      ],
      "metadata": {
        "id": "ih7iPlYfB7lL"
      }
    },
    {
      "cell_type": "markdown",
      "source": [
        "Симулятор космического корабля:\n",
        "- Создайте симулятор управления космическим кораблем с классами SpaceShip, CrewMember, и Mission.\n",
        "- SpaceShip имеет атрибуты для управления топливом, состоянием корпуса, и текущей скоростью.\n",
        "- CrewMember контролирует здоровье, навыки, и роли в команде (например, пилот, инженер).\n",
        "- Mission определяет цели, ресурсы, и возможные события (например, аварии, встречи с астероидами)."
      ],
      "metadata": {
        "id": "zLwqVCbpCBvc"
      }
    },
    {
      "cell_type": "code",
      "source": [],
      "metadata": {
        "id": "4NyrOOy8B9ED"
      },
      "execution_count": null,
      "outputs": []
    },
    {
      "cell_type": "markdown",
      "source": [
        "# Дополнительно:"
      ],
      "metadata": {
        "id": "F7mRVsZjCXk0"
      }
    },
    {
      "cell_type": "markdown",
      "source": [
        "**Описание:** создайте консольную версию игры крестики-нолики, используя классы"
      ],
      "metadata": {
        "id": "X4Lkf86UCc1h"
      }
    },
    {
      "cell_type": "code",
      "source": [],
      "metadata": {
        "id": "x9OxpNsyCcUo"
      },
      "execution_count": null,
      "outputs": []
    }
  ]
}