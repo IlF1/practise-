{
  "nbformat": 4,
  "nbformat_minor": 0,
  "metadata": {
    "colab": {
      "provenance": [],
      "include_colab_link": true
    },
    "kernelspec": {
      "name": "python3",
      "display_name": "Python 3"
    },
    "language_info": {
      "name": "python"
    }
  },
  "cells": [
    {
      "cell_type": "markdown",
      "metadata": {
        "id": "view-in-github",
        "colab_type": "text"
      },
      "source": [
        "<a href=\"https://colab.research.google.com/github/IlF1/practise-/blob/main/%D0%BF%D1%80%D0%B0%D0%BA%D1%82%D0%B8%D0%BA%D0%B0_0_6_0_%D0%A4%D0%B5%D0%B4%D0%BE%D1%80%D0%BE%D0%B2_%D0%98%D0%BB%D1%8C%D1%8F%22.ipynb\" target=\"_parent\"><img src=\"https://colab.research.google.com/assets/colab-badge.svg\" alt=\"Open In Colab\"/></a>"
      ]
    },
    {
      "cell_type": "markdown",
      "source": [
        "\n",
        "\n",
        "---\n",
        "\n"
      ],
      "metadata": {
        "id": "tKNG_RzWxG6g"
      }
    },
    {
      "cell_type": "markdown",
      "source": [
        "# **Дисклеймер**\n",
        "\n",
        "В данной практике будет введен дополнительный критерий: чистота и читаемость кода, а также соблюдение правил описанных в начале практики"
      ],
      "metadata": {
        "id": "cFcrKfclKWh0"
      }
    },
    {
      "cell_type": "markdown",
      "source": [
        "\n",
        "\n",
        "---\n",
        "\n"
      ],
      "metadata": {
        "id": "0SnE87X1xDlV"
      }
    },
    {
      "cell_type": "markdown",
      "source": [
        "# Задание 1\n",
        "\n",
        "**Задача:**\n",
        "\n",
        "Напишите функцию очищающий список от дубликтов\n",
        "\n",
        "\n",
        "*Запрещено:*\n",
        "\n",
        "*   Использовать set() или готовые функции очищающие список от дубликатов\n",
        "\n",
        "Вввод:\n",
        "\n",
        "```\n",
        "apple banana apple 1 3 4 4 5\n",
        "```\n",
        "\n",
        "\n",
        "Вывод:\n",
        "\n",
        "```\n",
        "apple banana 1 3 4 5\n",
        "```\n",
        "\n"
      ],
      "metadata": {
        "id": "VxawR9NubT_F"
      }
    },
    {
      "cell_type": "code",
      "source": [
        "a=input(\"введи список элементов через пробел \").split()\n",
        "li=[]\n",
        "for i in a:\n",
        "  if i not in li:\n",
        "    li.append(i)\n",
        "print(li)\n"
      ],
      "metadata": {
        "id": "ml5gnbPXbeju",
        "colab": {
          "base_uri": "https://localhost:8080/"
        },
        "outputId": "1a5df01a-dc15-4951-b19c-a26aaaae521a"
      },
      "execution_count": null,
      "outputs": [
        {
          "output_type": "stream",
          "name": "stdout",
          "text": [
            "введи список элементов через пробел z n z\n",
            "['z', 'n']\n"
          ]
        }
      ]
    },
    {
      "cell_type": "markdown",
      "source": [
        "# Задание 2\n",
        "\n",
        "**Задача:**\n",
        "\n",
        "Написать функцию для нахождения простых чисел в диапазоне\n",
        "\n",
        "Ввод:\n",
        "\n",
        "```\n",
        "10, 50\n",
        "```\n",
        "\n",
        "Вывод:\n",
        "\n",
        "```\n",
        "11, 13, 17, 19, 23, 29, 31, 37, 41, 43, 47\n",
        "```"
      ],
      "metadata": {
        "id": "y05x0eD0cVCC"
      }
    },
    {
      "cell_type": "code",
      "source": [
        "aa=input(\"введи строку чисел через запятую без пробелов\")\n",
        "a=aa.split()\n",
        "p1=int(input(\"первый предел \"))\n",
        "p11=p1-1\n",
        "p2=int(input(\"второй предел \"))\n",
        "p22=p2-1\n",
        "p=[]\n",
        "for i in range(p11,p22+1):\n",
        "  kol=0\n",
        "  for ii in range(2,(int(a[i]))//2):\n",
        "    if a[i]%ii==0:\n",
        "      kol+=1\n",
        "  if kol ==0:\n",
        "    p.append(a[i])\n",
        "print(p)\n",
        "11,13,17,19,23,29,31,37,41,43,47"
      ],
      "metadata": {
        "id": "XSMJnLgrc6Bf",
        "colab": {
          "base_uri": "https://localhost:8080/",
          "height": 274
        },
        "outputId": "eec4c39f-5cec-4f88-f285-34d23e943aa6"
      },
      "execution_count": null,
      "outputs": [
        {
          "name": "stdout",
          "output_type": "stream",
          "text": [
            "введи строку чисел через пробелы 11,13,17,19,23,29,31,37,41,43,47\n",
            "первый предел 2\n",
            "второй предел 9\n"
          ]
        },
        {
          "output_type": "error",
          "ename": "IndexError",
          "evalue": "list index out of range",
          "traceback": [
            "\u001b[0;31m---------------------------------------------------------------------------\u001b[0m",
            "\u001b[0;31mIndexError\u001b[0m                                Traceback (most recent call last)",
            "\u001b[0;32m<ipython-input-6-f0a53d56e11a>\u001b[0m in \u001b[0;36m<cell line: 8>\u001b[0;34m()\u001b[0m\n\u001b[1;32m      8\u001b[0m \u001b[0;32mfor\u001b[0m \u001b[0mi\u001b[0m \u001b[0;32min\u001b[0m \u001b[0mrange\u001b[0m\u001b[0;34m(\u001b[0m\u001b[0mp11\u001b[0m\u001b[0;34m,\u001b[0m\u001b[0mp22\u001b[0m\u001b[0;34m+\u001b[0m\u001b[0;36m1\u001b[0m\u001b[0;34m)\u001b[0m\u001b[0;34m:\u001b[0m\u001b[0;34m\u001b[0m\u001b[0;34m\u001b[0m\u001b[0m\n\u001b[1;32m      9\u001b[0m   \u001b[0mkol\u001b[0m\u001b[0;34m=\u001b[0m\u001b[0;36m0\u001b[0m\u001b[0;34m\u001b[0m\u001b[0;34m\u001b[0m\u001b[0m\n\u001b[0;32m---> 10\u001b[0;31m   \u001b[0;32mfor\u001b[0m \u001b[0mii\u001b[0m \u001b[0;32min\u001b[0m \u001b[0mrange\u001b[0m\u001b[0;34m(\u001b[0m\u001b[0;36m2\u001b[0m\u001b[0;34m,\u001b[0m\u001b[0;34m(\u001b[0m\u001b[0mint\u001b[0m\u001b[0;34m(\u001b[0m\u001b[0ma\u001b[0m\u001b[0;34m[\u001b[0m\u001b[0mi\u001b[0m\u001b[0;34m]\u001b[0m\u001b[0;34m)\u001b[0m\u001b[0;34m)\u001b[0m\u001b[0;34m//\u001b[0m\u001b[0;36m2\u001b[0m\u001b[0;34m)\u001b[0m\u001b[0;34m:\u001b[0m\u001b[0;34m\u001b[0m\u001b[0;34m\u001b[0m\u001b[0m\n\u001b[0m\u001b[1;32m     11\u001b[0m     \u001b[0;32mif\u001b[0m \u001b[0ma\u001b[0m\u001b[0;34m[\u001b[0m\u001b[0mi\u001b[0m\u001b[0;34m]\u001b[0m\u001b[0;34m%\u001b[0m\u001b[0mii\u001b[0m\u001b[0;34m==\u001b[0m\u001b[0;36m0\u001b[0m\u001b[0;34m:\u001b[0m\u001b[0;34m\u001b[0m\u001b[0;34m\u001b[0m\u001b[0m\n\u001b[1;32m     12\u001b[0m       \u001b[0mkol\u001b[0m\u001b[0;34m+=\u001b[0m\u001b[0;36m1\u001b[0m\u001b[0;34m\u001b[0m\u001b[0;34m\u001b[0m\u001b[0m\n",
            "\u001b[0;31mIndexError\u001b[0m: list index out of range"
          ]
        }
      ]
    },
    {
      "cell_type": "markdown",
      "source": [
        "# Задание 3\n",
        "\n",
        "Напишите функцию для объединения двух списков (список ключей и список значении) в словарь\n",
        "\n",
        "*Запрещено:*\n",
        "\n",
        "*   Использования готовых функции для объединения списков (пример: zip() )\n",
        "\n",
        "Дано:\n",
        "\n",
        "```\n",
        "keys = ['a', 'b', 'c', 'e' ]\n",
        "values = [1, 2, 3, 4]\n",
        "```\n",
        "\n",
        "Вывод:\n",
        "```\n",
        "{'a': 1, 'b': 2, 'c': 3, 'e': 4}\n",
        "```\n",
        "\n",
        "\n"
      ],
      "metadata": {
        "id": "vYM0LyxxdElN"
      }
    },
    {
      "cell_type": "code",
      "source": [
        "keys= ['a', 'b', 'c', 'd']\n",
        "values = [1, 2, 3, 4]\n",
        "combo = {}\n",
        "for i in range(0, max(len(keys),len(values))):\n",
        "    key = keys[i]\n",
        "    value = values[i]\n",
        "    combo[key] = value\n",
        "print(combo)"
      ],
      "metadata": {
        "id": "CRvhHTjCdvjS",
        "colab": {
          "base_uri": "https://localhost:8080/"
        },
        "outputId": "fc17cec0-7f12-460a-c1c1-1bb4d4d5c43c"
      },
      "execution_count": null,
      "outputs": [
        {
          "output_type": "stream",
          "name": "stdout",
          "text": [
            "{'a': 1, 'b': 2, 'c': 3, 'd': 4}\n"
          ]
        }
      ]
    },
    {
      "cell_type": "markdown",
      "source": [
        "# Задание 4\n",
        "\n",
        "Напишите функцию(ии) для подсчета статистических параметров:\n",
        "*   Сумму\n",
        "*   Среднее арифметическое\n",
        "*   Медиану\n",
        "*   Моду\n",
        "\n",
        "\n",
        "*Запрещено:*\n",
        "\n",
        "*   sum()\n",
        "*   sorted()\n",
        "*   и других функции предоставляющих готовое решение задания\n",
        "\n",
        "Дано:\n",
        "\n",
        "```\n",
        "numbers = [1, 2, 2, 3, 4, 5, 6, 7, 8 ,9 ,10]\n",
        "\n",
        "```\n",
        "\n",
        "Вывод:\n",
        "```\n",
        "{'mean': 5.181818181818182, 'median': 5, 'mode': 2, 'sum': 57}\n",
        "```\n"
      ],
      "metadata": {
        "id": "L_w8H8i-fQcP"
      }
    },
    {
      "cell_type": "code",
      "source": [
        "numbers = [1, 2, 2, 3, 4,4,4, 5, 6, 7, 8 ,9 ,10]\n",
        "\n",
        "def f (numbers):\n",
        "  sp={}\n",
        "  sum=0\n",
        "  max=-100000000\n",
        "  moda=0\n",
        "  for i in range(0,len(numbers)):\n",
        "    sum=sum+int(numbers[i])\n",
        "    if numbers.count(numbers[i])>max:\n",
        "      max=numbers.count(numbers[i])\n",
        "      moda=numbers[i]\n",
        "  sp[\"сумма\"]=sum\n",
        "  sr=sum/len(numbers)\n",
        "  sp[\"среднее aрифм\"]=sr\n",
        "  sp[\"мода\"]=moda\n",
        "  return(sp)\n",
        "\n",
        "print(f(numbers))\n",
        "\n"
      ],
      "metadata": {
        "id": "dW6jW_rjfuba",
        "colab": {
          "base_uri": "https://localhost:8080/"
        },
        "outputId": "319ac1ab-a385-4db5-a9b6-5f48ffd95a2d"
      },
      "execution_count": null,
      "outputs": [
        {
          "output_type": "stream",
          "name": "stdout",
          "text": [
            "{'сумма': 65, 'среднее орифм': 5.0, 'мода': 4}\n"
          ]
        }
      ]
    },
    {
      "cell_type": "markdown",
      "source": [
        "# Задание 5\n",
        "\n",
        "На ввод поступает строка символов. Строка состоит из слов, которые отделены друг от друга пробелами. Необходимо вывести самое длинное слово и его порядковый номер.\n",
        "\n",
        "*Запрещено:*\n",
        "\n",
        "*   len()\n",
        "\n",
        "Ввод:\n",
        "\n",
        "```\n",
        "Страдание и боль всегда обязательны для широкого сознания и глубокого сердца.\n",
        "\n",
        "```\n",
        "\n",
        "Вывод:\n",
        "```\n",
        "Самое длинное слово с номером 5: обязательны\n",
        "```"
      ],
      "metadata": {
        "id": "hZW0NZ7SgTcp"
      }
    },
    {
      "cell_type": "code",
      "source": [
        "print(\"Правильный ответ - последняя выведенная строка\")\n",
        "s=input()\n",
        "ss=s.split()\n",
        "max=-111\n",
        "num=0\n",
        "for i in ss:\n",
        "  num=num+1\n",
        "  kk=0\n",
        "  for letters in i:\n",
        "    kk+=1\n",
        "  if kk>max:\n",
        "    max=kk\n",
        "    print(\"максимальное количество букв в слове = \",max,\" номер этого слова =\", ss.index(i)+1)"
      ],
      "metadata": {
        "id": "rC5DpHHLsDYp",
        "colab": {
          "base_uri": "https://localhost:8080/"
        },
        "outputId": "37f5e85d-6ee3-458c-c9ea-a66ae2b0b64d"
      },
      "execution_count": null,
      "outputs": [
        {
          "output_type": "stream",
          "name": "stdout",
          "text": [
            "Правильный ответ - последняя выведенная строка\n",
            "я мама ты\n",
            "максимальное количество букв в слове =  1  номер этого слова = 1\n",
            "максимальное количество букв в слове =  4  номер этого слова = 2\n"
          ]
        }
      ]
    },
    {
      "cell_type": "markdown",
      "source": [
        "# Задание 6\n",
        "\n",
        "Напишите программу, для управления оценками студентов, со следующими функциями:\n",
        "\n",
        "* Добавление информации о студенте и его оценках.\n",
        "* Подсчет среднего балла студента.\n",
        "* Получение списка всех студентов с их средними баллами.\n",
        "* Поиск студента по имени и вывод его оценок и среднего балла.\n",
        "\n",
        "\n",
        "\n"
      ],
      "metadata": {
        "id": "k5BzJW5ZeaQN"
      }
    },
    {
      "cell_type": "code",
      "source": [
        "def check():\n",
        "  marks=input(\"введи через запятую все оценки студента \")\n",
        "  stud=input(\"введи имя студента \")\n",
        "  n={}\n",
        "  mk=marks.split()\n",
        "  sum=0\n",
        "  for i in range(0,len(mk)):\n",
        "    sum=sum+int(mk[i])\n",
        "  sr=sum/len(mk)\n",
        "  n[stud]=sr\n",
        "  return(n)\n",
        "print(check())\n",
        "\n",
        "def st(n):\n",
        "  i=input(\"введи имя студента \")\n",
        "  if i in stud:\n",
        "\n",
        "\n"
      ],
      "metadata": {
        "id": "cvhlltVbdyoL",
        "colab": {
          "base_uri": "https://localhost:8080/"
        },
        "outputId": "615436a9-2bb4-4dd4-8627-b2655efa68bd"
      },
      "execution_count": null,
      "outputs": [
        {
          "output_type": "stream",
          "name": "stdout",
          "text": [
            "введи через запятую все оценки студента 1 2 3 4 5\n",
            "введи имя студентагрэг\n",
            "{'грэг': 3.0}\n"
          ]
        }
      ]
    },
    {
      "cell_type": "markdown",
      "source": [
        "# Задание 7\n",
        "\n",
        "\n",
        "**Задача:**\n",
        "\n",
        "Создайте приложение-викторину с командной строкой, которое задает пользователям вопросы по различным темам и отслеживает их результаты.\n",
        "\n",
        "Ключевые особенности:\n",
        "\n",
        "*   Хранение данных о вопросах и ответах на них, а также баллов за каждый вопрос\n",
        "*   Реализуйте функцию для представления вопросов, принятия ответов пользователей и предоставления обратной связи о том, являются ли ответы правильными или неправильными.\n",
        "*  После завершения викторины отобразите общий балл пользователя из числа ответов на вопросы.\n",
        "*  Реализуйте функцию добавления нового вопроса\n",
        "*  Реализуйте функцию перемешивания вопросов, для отображения случайного вопроса\n"
      ],
      "metadata": {
        "id": "iQ8Z-7PYgu1_"
      }
    },
    {
      "cell_type": "code",
      "source": [],
      "metadata": {
        "id": "DhxyYwHwh2V4"
      },
      "execution_count": null,
      "outputs": []
    }
  ]
}